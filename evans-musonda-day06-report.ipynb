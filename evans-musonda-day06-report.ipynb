{
 "cells": [
  {
   "cell_type": "markdown",
   "id": "elder-index",
   "metadata": {},
   "source": [
    "# Quetion 1"
   ]
  },
  {
   "cell_type": "code",
   "execution_count": 15,
   "id": "removed-offering",
   "metadata": {},
   "outputs": [
    {
     "name": "stdout",
     "output_type": "stream",
     "text": [
      "Enter the natural number 'n' the upper limit: 10\n",
      "The sum of ODD numbers (i+3) from 1 to 10 is: 40 \n"
     ]
    }
   ],
   "source": [
    "#QUESTION 1(a)\n",
    "n = int(input(\"Enter the natural number 'n' the upper limit: \"))\n",
    "while True:\n",
    "    if  n>0: #this ensures that the user doesn't enter negative numbers\n",
    "          break \n",
    "    else :\n",
    "          n = int(input(\"Invalid inputs have been recorded, try again!\"))\n",
    "sum_nat = 0\n",
    "for i in range (1,n,2):\n",
    "    sum_nat= sum_nat+(i+3)\n",
    "print(\"The sum of ODD numbers (i+3) from 1 to {} is: {} \".format(n,sum_nat))\n",
    "      "
   ]
  },
  {
   "cell_type": "code",
   "execution_count": 16,
   "id": "cutting-chance",
   "metadata": {
    "scrolled": true
   },
   "outputs": [
    {
     "name": "stdout",
     "output_type": "stream",
     "text": [
      "The product of Even numbers (i+3) from 1 to 10 is: 3465 \n"
     ]
    }
   ],
   "source": [
    "#following from Questin 1 (a)\n",
    "product = 1\n",
    "for number in range (2,n,2):\n",
    "    product = product*(number+3)\n",
    "print(\"The product of Even numbers (i+3) from 1 to {} is: {} \".format(n,product))\n",
    "      "
   ]
  },
  {
   "cell_type": "markdown",
   "id": "involved-light",
   "metadata": {},
   "source": [
    "# Question 2"
   ]
  },
  {
   "cell_type": "code",
   "execution_count": 106,
   "id": "million-titanium",
   "metadata": {},
   "outputs": [
    {
     "name": "stdout",
     "output_type": "stream",
     "text": [
      "Enter the number of the day from 1 as sunday to 7 as saturday2\n",
      "The day monday is a working day\n"
     ]
    }
   ],
   "source": [
    "week_days =['sunday', 'monday', 'Tuesday', 'wednsday','Thursday','Friday', 'saturday']\n",
    "day_indica= int(input(\"Enter the number of the day from 1 as sunday to 7 as saturday\"))\n",
    "index = day_indica-1\n",
    "if index >= 1 and index <= 5:\n",
    "    print(\"The day {} is a working day\".format(week_days[index]))\n",
    "elif index == 0 or index == 6:\n",
    "     print(\"The day {} is a weekend. YEAH!\".format(week_days[index]))\n",
    "else:\n",
    "     print(\"Invalid input has been recorded . Try Again!\")"
   ]
  },
  {
   "cell_type": "markdown",
   "id": "through-rabbit",
   "metadata": {},
   "source": [
    "# Question 3"
   ]
  },
  {
   "cell_type": "code",
   "execution_count": 108,
   "id": "favorite-briefs",
   "metadata": {},
   "outputs": [
    {
     "name": "stdout",
     "output_type": "stream",
     "text": [
      "Enter the month number as they appear on a calendar [1 to 12]: 1\n",
      "The month is January : It has 31 days!\n"
     ]
    }
   ],
   "source": [
    "month_list=[\"January\",\"February\",\"March\",\"April\",\"May\",\"June\",\"July\",\"August\",\"September\",\"October\",\"November\",\"December\"] # list months\n",
    "month = int(input(\"Enter the month number as they appear on a calendar [1 to 12]: \")) \n",
    "index2=month-1 #This calculates the index number of the months in the list.    \n",
    " # The index values 3,5,8 and 10 are representing \n",
    "    #[April,June,September and November] with exactly 30 days\n",
    "if index2==3 or index2==5 or index2==8 or index2==10:\n",
    "    print(\"The month is {} : It has 30 days!\".format(month_list[index2])) \n",
    "     # index of 1 represents february with 28 days  \n",
    "elif index2==0 or index2==2 or index2==4 or index2==6 or index2==7 or index2==9 or index2==11:\n",
    "    #The above index values represent months with 31 days \n",
    "    #i.e [January,March,May,July,August,October and December]\n",
    "    print(\"The month is {} : It has 31 days!\".format(month_list[index2]))   \n",
    "elif index2==1:\n",
    "    print(\"The month is {} : It has 28 days!\".format(month_list[index2])) \n",
    "else:\n",
    "    print(\"Invalid input has been recorded . Try Again!\") \n",
    "   "
   ]
  },
  {
   "cell_type": "markdown",
   "id": "statewide-confirmation",
   "metadata": {},
   "source": [
    "# Question 4"
   ]
  },
  {
   "cell_type": "code",
   "execution_count": 109,
   "id": "fatal-switch",
   "metadata": {},
   "outputs": [
    {
     "name": "stdout",
     "output_type": "stream",
     "text": [
      "My name is Evans\n",
      "My name is Evans\n",
      "My name is Evans\n"
     ]
    }
   ],
   "source": [
    "name = 'Evans'\n",
    "for i in range(1,4):\n",
    "    print(\"My name is {}\".format(name))\n"
   ]
  },
  {
   "cell_type": "code",
   "execution_count": 110,
   "id": "driving-spank",
   "metadata": {},
   "outputs": [
    {
     "name": "stdout",
     "output_type": "stream",
     "text": [
      "My name is Evans\n",
      "My name is Evans\n",
      "My name is Evans\n"
     ]
    }
   ],
   "source": [
    "#Using while loop\n",
    "i =1\n",
    "while i <4:\n",
    "     print(\"My name is {}\".format(name))\n",
    "     i = i+1"
   ]
  },
  {
   "cell_type": "markdown",
   "id": "heated-poultry",
   "metadata": {},
   "source": [
    "# Question 5"
   ]
  },
  {
   "cell_type": "code",
   "execution_count": 38,
   "id": "gothic-diving",
   "metadata": {},
   "outputs": [
    {
     "name": "stdout",
     "output_type": "stream",
     "text": [
      "Enter the first/ starting term: 1\n",
      "Enter the second term: 2\n",
      "1---2---3---5---8---13---21---34---55---89---144---233---377---610---987---"
     ]
    }
   ],
   "source": [
    "# finding the fibbonacci sequence\n",
    "a0=int(input(\"Enter the first/ starting term: \"))\n",
    "a1=int(input(\"Enter the second term: \"))\n",
    "print(a0, end =\"---\")\n",
    "print(a1, end =\"---\")\n",
    "for i in range(2,15):\n",
    "    an = a0+a1\n",
    "    a0=a1\n",
    "    a1=an\n",
    "    print(an, end =\"---\")"
   ]
  },
  {
   "cell_type": "markdown",
   "id": "editorial-parker",
   "metadata": {},
   "source": [
    "# Question 6"
   ]
  },
  {
   "cell_type": "code",
   "execution_count": 43,
   "id": "answering-luxury",
   "metadata": {},
   "outputs": [
    {
     "name": "stdout",
     "output_type": "stream",
     "text": [
      "Enter the first/ starting term: 2\n",
      "Enter the second term: 3\n",
      "2---3---7.5---12.75---28.88---52.69---112.98---214.56---446.22---866.79---1772.06---3486.4---7059.38---13988.89---28172.58---56052.96---112544.22---224430.99---449848.16---898217.05---1798653.0---3593977.65---7192947.83---14378406.86---28768046.92---57519244.04---115063762.78---230089613.51---460236095.1---920386888.08---"
     ]
    }
   ],
   "source": [
    "#computing terms for the sequence 2x_n+2 -x_n+1 - 6x_n = 0\n",
    "\n",
    "x0=int(input(\"Enter the first/ starting term: \"))\n",
    "x1=int(input(\"Enter the second term: \"))\n",
    "print(x0, end =\"---\")\n",
    "print(x1, end =\"---\")\n",
    "for i in range(2,30):\n",
    "    xn = round((6*x0+x1)/2 ,2) # to 2 d.p\n",
    "    x0=x1\n",
    "    x1=xn\n",
    "    print(xn, end =\"---\")"
   ]
  },
  {
   "cell_type": "markdown",
   "id": "caring-triangle",
   "metadata": {},
   "source": [
    "# Question 7"
   ]
  },
  {
   "cell_type": "code",
   "execution_count": 40,
   "id": "persistent-neighborhood",
   "metadata": {},
   "outputs": [
    {
     "name": "stdout",
     "output_type": "stream",
     "text": [
      "Enter the year to find out if it is a leap year2020\n",
      "The year 2020 is a leap year\n"
     ]
    }
   ],
   "source": [
    "year = int(input(\"Enter the year to find out if it is a leap year\"))\n",
    "if year % 4 == 0 and year % 100 != 0 or year % 400 == 0:\n",
    "    #the year should be divisible by 4 and 400 but not divisible by 100\n",
    "    \n",
    "     print(\"The year {} is a leap year\".format(year))\n",
    "else:\n",
    "     print(\"The year {} is not a leap year\".format(year))"
   ]
  },
  {
   "cell_type": "markdown",
   "id": "cardiac-backing",
   "metadata": {},
   "source": [
    "# Question 8"
   ]
  },
  {
   "cell_type": "code",
   "execution_count": 49,
   "id": "minus-trailer",
   "metadata": {},
   "outputs": [
    {
     "name": "stdout",
     "output_type": "stream",
     "text": [
      "Enter the number of terms 'n': 100\n",
      "The sum of the first 100 squres is 338350\n"
     ]
    }
   ],
   "source": [
    "#Sum of the squares\n",
    "n2= int(input(\"Enter the number of terms 'n': \"))\n",
    "sum_squares =0\n",
    "for i in range(1,n2+1):\n",
    "    sum_squares=sum_squares+i**2\n",
    "print(\"The sum of the first {} squres is {}\".format(n2,sum_squares))"
   ]
  },
  {
   "cell_type": "code",
   "execution_count": 54,
   "id": "functioning-cheese",
   "metadata": {},
   "outputs": [
    {
     "name": "stdout",
     "output_type": "stream",
     "text": [
      "The sum of the first 100 squres is 348551\n"
     ]
    }
   ],
   "source": [
    "#Using the while loop\n",
    "sum_squares =0\n",
    "v=1\n",
    "while v<=n2+1:\n",
    "    sum_squares=sum_squares+v**2\n",
    "    v=v+1\n",
    "print(\"The sum of the first {} squres is {}\".format(n2,sum_squares))\n"
   ]
  },
  {
   "cell_type": "markdown",
   "id": "worse-contamination",
   "metadata": {},
   "source": [
    "Questin 8(b)"
   ]
  },
  {
   "cell_type": "code",
   "execution_count": 91,
   "id": "unauthorized-groove",
   "metadata": {},
   "outputs": [
    {
     "name": "stdout",
     "output_type": "stream",
     "text": [
      "Enter the Natural number 'M': 100\n",
      "The smallest natural number 'n' such that 1^2+2^2+...+n^2 >= M is : 7\n"
     ]
    }
   ],
   "source": [
    "# for loop\n",
    "M = int(input(\"Enter the Natural number 'M': \"))\n",
    "sumM=0\n",
    "for i in range(1,M): \n",
    "    sumM=sumM+i**2\n",
    "    if sumM >= M : #sthis breaks the loop when the sum is greater than M\n",
    "        break\n",
    "        \n",
    "print(\"The smallest natural number 'n' such that 1^2+2^2+...+n^2 >= M is :\",i)"
   ]
  },
  {
   "cell_type": "code",
   "execution_count": 98,
   "id": "spread-graphics",
   "metadata": {},
   "outputs": [
    {
     "name": "stdout",
     "output_type": "stream",
     "text": [
      "Enter the Natural number 'M': 100\n",
      "The smallest natural number 'n' such that 1^2+2^2+...+n^2 >= M is : 7\n"
     ]
    }
   ],
   "source": [
    "#while loop\n",
    "M = int(input(\"Enter the Natural number 'M': \"))\n",
    "n3=0\n",
    "sumM=0\n",
    "while n3 <= M:\n",
    "    sumM=sumM+n3**2\n",
    "    if sumM >= M : #sthis breaks the loop when the sum is greater than M\n",
    "        break\n",
    "    n3=n3+1\n",
    "print(\"The smallest natural number 'n' such that 1^2+2^2+...+n^2 >= M is :\",n3)"
   ]
  },
  {
   "cell_type": "markdown",
   "id": "excited-trial",
   "metadata": {},
   "source": [
    "# Question 9"
   ]
  },
  {
   "cell_type": "code",
   "execution_count": 99,
   "id": "resident-gambling",
   "metadata": {},
   "outputs": [
    {
     "name": "stdout",
     "output_type": "stream",
     "text": [
      "Enter a Natural number 'N' to find it's divisors: 100\n",
      "\t\n",
      "The divisors of 100 are :\n",
      "1...2...4...5...10...20...25...50...100..."
     ]
    }
   ],
   "source": [
    "N = int(input(\"Enter a Natural number 'N' to find it's divisors: \"))\n",
    "print('\\t')\n",
    "print(\"The divisors of {} are :\".format(N))\n",
    "for i in range(1,N+1):\n",
    "    if N%i==0:\n",
    "        print(i,end =\"...\")"
   ]
  },
  {
   "cell_type": "markdown",
   "id": "herbal-prison",
   "metadata": {},
   "source": [
    "Question 9 (b)"
   ]
  },
  {
   "cell_type": "code",
   "execution_count": 152,
   "id": "acquired-mining",
   "metadata": {},
   "outputs": [
    {
     "name": "stdout",
     "output_type": "stream",
     "text": [
      "Enter an integer 'N' to find it's prime factors: 45\n",
      "[3, 5]\n"
     ]
    }
   ],
   "source": [
    "Integer = int(input(\"Enter an integer 'N' to find it's prime factors: \"))\n",
    "factors = []\n",
    "for i in range(2,Integer+1):\n",
    "    if Integer % i == 0:\n",
    "        Integer //= i\n",
    "        factors.append(i)\n",
    "       # print(\"The prime factors of {} are :\".format(Integer))\n",
    "print(factors)"
   ]
  },
  {
   "cell_type": "markdown",
   "id": "complicated-sensitivity",
   "metadata": {},
   "source": [
    "# QUESTION 10"
   ]
  },
  {
   "cell_type": "code",
   "execution_count": 103,
   "id": "proved-crisis",
   "metadata": {
    "scrolled": true
   },
   "outputs": [
    {
     "name": "stdout",
     "output_type": "stream",
     "text": [
      "Enter a Number between 0 and 9: 6\n",
      "Enter a Number N to make a multiplication table: 10\n",
      "6 times 0 is equal to 0\n",
      "6 times 1 is equal to 6\n",
      "6 times 2 is equal to 12\n",
      "6 times 3 is equal to 18\n",
      "6 times 4 is equal to 24\n",
      "6 times 5 is equal to 30\n",
      "6 times 6 is equal to 36\n",
      "6 times 7 is equal to 42\n",
      "6 times 8 is equal to 48\n",
      "6 times 9 is equal to 54\n",
      "6 times 10 is equal to 60\n"
     ]
    }
   ],
   "source": [
    "N1 = int(input(\"Enter a Number between 0 and 9: \"))\n",
    "N2 = int(input(\"Enter a Number N to make a multiplication table: \"))\n",
    "for i in range(0,N2+1):\n",
    "    prod = i*N1\n",
    "    print(\"{} times {} is equal to {}\".format(N1,i,prod))"
   ]
  },
  {
   "cell_type": "markdown",
   "id": "amazing-bolivia",
   "metadata": {},
   "source": [
    "# QUESTION 11"
   ]
  },
  {
   "cell_type": "code",
   "execution_count": 111,
   "id": "heard-withdrawal",
   "metadata": {},
   "outputs": [
    {
     "name": "stdout",
     "output_type": "stream",
     "text": [
      "The numbers between 0 and 40 that are multiples of 3, 7 or 11 are :\n",
      "0---3---6---7---9---11---12---14---15---18---21---22---24---27---28---30---33---35---36---39---"
     ]
    }
   ],
   "source": [
    " print(\"The numbers between 0 and 40 that are multiples of either 3, 7 or 11 are :\")\n",
    "for i in range(0,41):\n",
    "    if i%3==0 or i%7==0 or i%11==0:\n",
    "        print(i,end=\"---\")"
   ]
  },
  {
   "cell_type": "markdown",
   "id": "average-forwarding",
   "metadata": {},
   "source": [
    "# Question 12"
   ]
  },
  {
   "cell_type": "code",
   "execution_count": 116,
   "id": "handled-samoa",
   "metadata": {},
   "outputs": [
    {
     "name": "stdout",
     "output_type": "stream",
     "text": [
      "enter a number to find the floor: 63674.848\n",
      "The floor of 63674.848 is =: 63674\n"
     ]
    }
   ],
   "source": [
    "X = float(input(\"enter a number to find the floor: \"))\n",
    "floor_value = int(X)\n",
    "print(f\"The floor of {X} is =: {floor_value}\")"
   ]
  },
  {
   "cell_type": "markdown",
   "id": "brave-germany",
   "metadata": {},
   "source": [
    "# Question 13"
   ]
  },
  {
   "cell_type": "code",
   "execution_count": 121,
   "id": "baking-coating",
   "metadata": {},
   "outputs": [
    {
     "name": "stdout",
     "output_type": "stream",
     "text": [
      "Enter the x-coordinate: 7\n",
      "Enter the y-coordinate: 6\n",
      "The point is in the 1st quadrant.\n",
      "Do you want to continue? (y/n): y\n",
      "Enter the x-coordinate: 5\n",
      "Enter the y-coordinate: 6\n",
      "The point is in the 1st quadrant.\n",
      "Do you want to continue? (y/n): n\n"
     ]
    }
   ],
   "source": [
    "while True:\n",
    "    x = float(input(\"Enter the x-coordinate: \"))\n",
    "    y = float(input(\"Enter the y-coordinate: \"))\n",
    "\n",
    "    if x == 0 and y == 0:\n",
    "        print(\"The point is at the origin.\")\n",
    "    elif x == 0:\n",
    "        print(\"The point lies on the y-axis.\")\n",
    "    elif y == 0:\n",
    "        print(\"The point lies on the x-axis.\")\n",
    "    elif x > 0 and y > 0:\n",
    "        print(\"The point is in the 1st quadrant.\")\n",
    "    elif x < 0 and y > 0:\n",
    "        print(\"The point is in the 2nd quadrant.\")\n",
    "    elif x < 0 and y < 0:\n",
    "        print(\"The point is in the 3rd quadrant.\")\n",
    "    else:\n",
    "        print(\"The point is in the 4th quadrant.\")\n",
    "\n",
    "    continue_input = input(\"Do you want to continue? (y/n): \")\n",
    "    if continue_input.lower() != 'y':\n",
    "        break"
   ]
  },
  {
   "cell_type": "markdown",
   "id": "pediatric-craps",
   "metadata": {},
   "source": [
    "# Question 14"
   ]
  },
  {
   "cell_type": "code",
   "execution_count": 142,
   "id": "incident-netscape",
   "metadata": {},
   "outputs": [
    {
     "name": "stdout",
     "output_type": "stream",
     "text": [
      "Enter an integer between 0 and 9: 8\n",
      "Enter an integer between 0 and 255: 200\n",
      "Multiples of 8 between 0 and 200 :\n",
      "8---16---24---32---40---48---56---64---72---80---88---96---104---112---120---128---136---144---152---160---168---176---184---192---200---\t\n",
      "Do you want to continue? (y/n): n\n"
     ]
    }
   ],
   "source": [
    "while True:\n",
    "        x = int(input(\"Enter an integer between 0 and 9: \"))\n",
    "        if 0 <= x < 10:\n",
    "            break   \n",
    "        else: # making sure the user enters the correct number between 0 and 9\n",
    "          print(\"Invalid input. Please enter an integer between 0 and 9.\")\n",
    "\n",
    "while True:\n",
    "    max_value = int(input(\"Enter an integer between 0 and 255: \"))\n",
    "    if 0 <= max_value < 256:\n",
    "        break\n",
    "    else:  # making sure the user enters the correct number between 0 and 255\n",
    "        print(\"Invalid input. Please enter an integer between 0 and 255.\")      \n",
    "\n",
    "print(\"Multiples of\", x, \"between 0 and\", max_value, \":\")\n",
    "for i in range(x, max_value + 1, x): #step =the number itself\n",
    "    print(i, end =\"---\")\n",
    "print('\\t')\n",
    "continue_input = input(\"Do you want to continue? (y/n): \")\n",
    "\n",
    "while True:\n",
    "    if continue_input.lower() != 'y':\n",
    "        break\n",
    "    else:\n",
    "        continue"
   ]
  }
 ],
 "metadata": {
  "kernelspec": {
   "display_name": "Python 3",
   "language": "python",
   "name": "python3"
  },
  "language_info": {
   "codemirror_mode": {
    "name": "ipython",
    "version": 3
   },
   "file_extension": ".py",
   "mimetype": "text/x-python",
   "name": "python",
   "nbconvert_exporter": "python",
   "pygments_lexer": "ipython3",
   "version": "3.9.2"
  }
 },
 "nbformat": 4,
 "nbformat_minor": 5
}
