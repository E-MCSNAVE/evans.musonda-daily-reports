{
 "cells": [
  {
   "cell_type": "markdown",
   "metadata": {
    "id": "sm-kMbirqqyt"
   },
   "source": [
    "# PyPro: challenge 1 \n",
    "\n",
    "\n",
    "\n",
    "`These exercises provide a wide range of challenges that test your understanding of Python's core concepts, such as control structures, data types, string manipulations, list comprehensions, and higher-order functions.`"
   ]
  },
  {
   "cell_type": "markdown",
   "metadata": {
    "id": "sm-kMbirqqyt"
   },
   "source": [
    "#### Basic Tasks\n",
    "\n",
    "1. Create a function `find_max()` that accepts two numeric inputs and returns the greater value. Avoid using the built-in `max()` function."
   ]
  },
  {
   "cell_type": "code",
   "execution_count": 2,
   "metadata": {},
   "outputs": [
    {
     "name": "stdout",
     "output_type": "stream",
     "text": [
      "Enter the value of a: 3.4\n",
      "Enter the value of b: 7.3\n",
      "7.3 if greater than 3.4\n"
     ]
    }
   ],
   "source": [
    "def find_max():\n",
    "    '''The function takes 2 numbers and returs the greater number'''\n",
    "    if a-b>0:\n",
    "        print(\"{} is greater than {}\".format(a,b))\n",
    "    elif a-b<0:\n",
    "        print(\"{} is greater than {}\".format(b,a))\n",
    "    else:\n",
    "        print(\"The two numbers are equal\")\n",
    "a= float(input(\"Enter the value of a: \"))\n",
    "b= float(input(\"Enter the value of b: \"))        \n",
    "find_max()"
   ]
  },
  {
   "cell_type": "markdown",
   "metadata": {
    "id": "sm-kMbirqqyt"
   },
   "source": [
    "2. Develop a function `find_max_of_three()` to find the maximum among three given numbers."
   ]
  },
  {
   "cell_type": "code",
   "execution_count": 4,
   "metadata": {},
   "outputs": [
    {
     "name": "stdout",
     "output_type": "stream",
     "text": [
      "Enter the first number a: 2\n",
      "Enter the second number b: 3\n",
      "Enter the third number c: 5\n",
      "The bigest number of the three is : 5.0\n"
     ]
    }
   ],
   "source": [
    "def find_max_of_three(a,b,c):\n",
    "    '''The function takes 3 numbers and returs the largest of the tree number'''\n",
    "    return \"The bigest number of the three is : {}\".format(max(a,b,c))\n",
    "a= float(input(\"Enter the first number a: \"))\n",
    "b= float(input(\"Enter the second number b: \"))\n",
    "c= float(input(\"Enter the third number c: \"))\n",
    "print(find_max_of_three(a,b,c))"
   ]
  },
  {
   "cell_type": "markdown",
   "metadata": {
    "id": "sm-kMbirqqyt"
   },
   "source": [
    "3. Write a function to manually calculate the length of a given list or string without using `len()`."
   ]
  },
  {
   "cell_type": "code",
   "execution_count": 37,
   "metadata": {},
   "outputs": [
    {
     "name": "stdout",
     "output_type": "stream",
     "text": [
      "Enter a word or sentence: Hello, Evans.\n",
      "('The length of the string is: ', 13)\n"
     ]
    }
   ],
   "source": [
    "def lenght_calcu (string):\n",
    "    \n",
    "    '''The function takes a string from the user and returs the lenght'''\n",
    "    for i,char in enumerate(string):\n",
    "        i\n",
    "    return \"The length of the string is: \",i+1\n",
    "string =input(\"Enter a word or sentence: \")\n",
    "print(lenght_calcu(string))"
   ]
  },
  {
   "cell_type": "code",
   "execution_count": 39,
   "metadata": {},
   "outputs": [
    {
     "name": "stdout",
     "output_type": "stream",
     "text": [
      "Enter a list separated with commas (,): a,b,c,d\n",
      "The length of the list ['a', 'b', 'c', 'd'] is 4: \n"
     ]
    }
   ],
   "source": [
    "def lenght_calcu (lists):\n",
    "    l=0\n",
    "    '''The function takes a list from the user and returs the lenght'''\n",
    "    for i in lists:\n",
    "        l=l+1\n",
    "    return \"The length of the list {} is {}: \".format(lists,l)\n",
    "lists =input(\"Enter a list separated with commas (,): \").split(\",\")\n",
    "print(lenght_calcu(lists))"
   ]
  },
  {
   "cell_type": "markdown",
   "metadata": {
    "id": "sm-kMbirqqyt"
   },
   "source": [
    "4. Implement a function that checks if a given character is a vowel (a, e, i, o, u)."
   ]
  },
  {
   "cell_type": "code",
   "execution_count": 42,
   "metadata": {},
   "outputs": [
    {
     "name": "stdout",
     "output_type": "stream",
     "text": [
      "Enter a character to determine whether it's a vowel or not: a\n"
     ]
    },
    {
     "data": {
      "text/plain": [
       "True"
      ]
     },
     "execution_count": 42,
     "metadata": {},
     "output_type": "execute_result"
    }
   ],
   "source": [
    "def vowe(char):\n",
    "    vowels=['a', 'e', 'i', 'o', 'u','A','E','I','O','U']\n",
    "    if char in vowels:\n",
    "        return True\n",
    "        print(\"The character is a Vowel\")\n",
    "    else:\n",
    "        print(\"The entered character in not a Vowel\")\n",
    "char = input(\"Enter a character to determine whether it's a vowel or not: \")\n",
    "vowe(char)"
   ]
  },
  {
   "cell_type": "markdown",
   "metadata": {
    "id": "sm-kMbirqqyt"
   },
   "source": [
    "5. Write a function `encode()` that converts a string into \"rövarspråket\" ([robber's language](https://en.wikipedia.org/wiki/R%C3%B6varspr%C3%A5ket)) by doubling consonants and placing \"o\" in between, e.g., \"hello\" -> \"hohelollolo\"."
   ]
  },
  {
   "cell_type": "code",
   "execution_count": 54,
   "metadata": {},
   "outputs": [
    {
     "name": "stdout",
     "output_type": "stream",
     "text": [
      "Enter the word: hello\n"
     ]
    },
    {
     "data": {
      "text/plain": [
       "'hohelollolo'"
      ]
     },
     "execution_count": 54,
     "metadata": {},
     "output_type": "execute_result"
    }
   ],
   "source": [
    "def encode(word1):\n",
    "    '''The function takes a string and converts it into a \"rövarspråket\" \n",
    "    (robber's language) by doubling consonants and placing \"o\" in between,\n",
    "    e.g., \"hello\" -> \"hohelollolo\". '''\n",
    "    vowels=['a', 'e', 'i', 'o', 'u','A','E','I','O','U']\n",
    "    word = \"\"\n",
    "    for i in word1:\n",
    "        if i in vowels:\n",
    "            word= word + i\n",
    "        else:\n",
    "            word = word+ i+ \"o\"+ i\n",
    "    return word\n",
    "word1 = input(\"Enter the word: \")\n",
    "encode(word1)"
   ]
  },
  {
   "cell_type": "markdown",
   "metadata": {
    "id": "sm-kMbirqqyt"
   },
   "source": [
    "6. Create `sum_elements()` and `product_elements()` functions to sum and multiply all elements in a list, respectively."
   ]
  },
  {
   "cell_type": "code",
   "execution_count": 75,
   "metadata": {},
   "outputs": [
    {
     "name": "stdout",
     "output_type": "stream",
     "text": [
      "('The sum of the elements is: ', 10)\n"
     ]
    }
   ],
   "source": [
    "def sum_elements(lst):\n",
    "    '''The function takes a list and return it's sum'''\n",
    "    return \"The sum of the elements is: \", sum(lst)\n",
    "print(sum_elements([1,2,3,4]))"
   ]
  },
  {
   "cell_type": "code",
   "execution_count": 76,
   "metadata": {},
   "outputs": [
    {
     "name": "stdout",
     "output_type": "stream",
     "text": [
      "24\n"
     ]
    }
   ],
   "source": [
    "def product_element(list2):\n",
    "    '''The function takes a list and return the product of all the elements'''\n",
    "    prod =1\n",
    "    for i in list2:\n",
    "        prod =prod*i\n",
    "    return prod\n",
    "list2=[1,2,3,4]\n",
    "print(product_element(list2))"
   ]
  },
  {
   "cell_type": "markdown",
   "metadata": {
    "id": "sm-kMbirqqyt"
   },
   "source": [
    "7. Define a function `reverse_string()` to reverse the characters in a given string."
   ]
  },
  {
   "cell_type": "code",
   "execution_count": 77,
   "metadata": {},
   "outputs": [
    {
     "name": "stdout",
     "output_type": "stream",
     "text": [
      "enter the word to reverse: SNAVE\n",
      "EVANS\n"
     ]
    }
   ],
   "source": [
    "def reverse_string(word):\n",
    "    '''The function takes a string and return it's reverse'''\n",
    "    rev_word = word[::-1]\n",
    "    return rev_word\n",
    "word = input(\"enter the word to reverse: \")\n",
    "print(reverse_string(word))"
   ]
  }
 ],
 "metadata": {
  "colab": {
   "provenance": []
  },
  "kernelspec": {
   "display_name": "Python 3",
   "language": "python",
   "name": "python3"
  },
  "language_info": {
   "codemirror_mode": {
    "name": "ipython",
    "version": 3
   },
   "file_extension": ".py",
   "mimetype": "text/x-python",
   "name": "python",
   "nbconvert_exporter": "python",
   "pygments_lexer": "ipython3",
   "version": "3.9.2"
  }
 },
 "nbformat": 4,
 "nbformat_minor": 1
}
