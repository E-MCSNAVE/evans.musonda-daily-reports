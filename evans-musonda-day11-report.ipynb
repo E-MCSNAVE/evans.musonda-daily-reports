{
 "cells": [
  {
   "cell_type": "markdown",
   "id": "946dcae8",
   "metadata": {},
   "source": [
    "# Practical_6: Numpy"
   ]
  },
  {
   "cell_type": "markdown",
   "id": "designing-belgium",
   "metadata": {},
   "source": [
    "---\n",
    "\n",
    "### Exercise 1:\n",
    "Create a NumPy array of integers from 1 to 10.\n",
    "\n",
    "```python\n",
    "# Exercise 1\n",
    "```"
   ]
  },
  {
   "cell_type": "code",
   "execution_count": 149,
   "id": "interstate-disability",
   "metadata": {},
   "outputs": [
    {
     "name": "stdout",
     "output_type": "stream",
     "text": [
      "[1 2 3 4 5 6 7 8 9]\n"
     ]
    }
   ],
   "source": [
    "num_matrix = np.array(range(1,10))\n",
    "print(num_matrix)"
   ]
  },
  {
   "cell_type": "markdown",
   "id": "incredible-composer",
   "metadata": {},
   "source": [
    "---\n",
    "\n",
    "### Exercise 2:\n",
    "Create a 3x3 NumPy array filled with zeros.\n",
    "\n",
    "```python\n",
    "# Exercise 2\n",
    "```"
   ]
  },
  {
   "cell_type": "code",
   "execution_count": 168,
   "id": "fuzzy-runner",
   "metadata": {},
   "outputs": [
    {
     "name": "stdout",
     "output_type": "stream",
     "text": [
      "[[0. 0. 0.]\n",
      " [0. 0. 0.]\n",
      " [0. 0. 0.]]\n"
     ]
    }
   ],
   "source": [
    "zero_mat = np.zeros((3,3))\n",
    "print(zero_mat)"
   ]
  },
  {
   "cell_type": "markdown",
   "id": "express-reaction",
   "metadata": {},
   "source": [
    "---\n",
    "\n",
    "### Exercise 3:\n",
    "Create a NumPy array of 10 evenly spaced numbers between 0 and 5.\n",
    "\n",
    "```python\n",
    "# Exercise 3\n",
    "```"
   ]
  },
  {
   "cell_type": "code",
   "execution_count": 171,
   "id": "seventh-parallel",
   "metadata": {},
   "outputs": [
    {
     "name": "stdout",
     "output_type": "stream",
     "text": [
      "[0.         0.55555556 1.11111111 1.66666667 2.22222222 2.77777778\n",
      " 3.33333333 3.88888889 4.44444444 5.        ]\n"
     ]
    }
   ],
   "source": [
    "spaced_mat =np.linspace(0,5,10)\n",
    "print(spaced_mat)"
   ]
  },
  {
   "cell_type": "markdown",
   "id": "synthetic-lighter",
   "metadata": {},
   "source": [
    "---\n",
    "\n",
    "### Exercise 4:\n",
    "Create a 5x5 identity matrix using NumPy.\n",
    "\n",
    "```python\n",
    "# Exercise 4\n",
    "```"
   ]
  },
  {
   "cell_type": "code",
   "execution_count": 172,
   "id": "defined-times",
   "metadata": {},
   "outputs": [
    {
     "name": "stdout",
     "output_type": "stream",
     "text": [
      "[[ 1  3  5  7  9]\n",
      " [11 13 15 17 19]\n",
      " [21 23 25 27 29]\n",
      " [31 33 35 37 39]\n",
      " [41 43 45 47 49]]\n"
     ]
    }
   ],
   "source": [
    "mat5=np.array(range(1,50,2)).reshape(5,5)\n",
    "print(mat5)"
   ]
  },
  {
   "cell_type": "markdown",
   "id": "marine-costume",
   "metadata": {},
   "source": [
    "---\n",
    "\n",
    "### Exercise 5:\n",
    "Create a 4x4 matrix with random values between 0 and 1.\n",
    "\n",
    "```python\n",
    "# Exercise 5\n",
    "```"
   ]
  },
  {
   "cell_type": "code",
   "execution_count": 175,
   "id": "mathematical-parish",
   "metadata": {},
   "outputs": [
    {
     "name": "stdout",
     "output_type": "stream",
     "text": [
      "[[0.         0.06666667 0.13333333 0.2       ]\n",
      " [0.26666667 0.33333333 0.4        0.46666667]\n",
      " [0.53333333 0.6        0.66666667 0.73333333]\n",
      " [0.8        0.86666667 0.93333333 1.        ]]\n"
     ]
    }
   ],
   "source": [
    "matB=np.linspace(0,1,16)#evenly spaced matrix\n",
    "print(matB.reshape(4,4))"
   ]
  },
  {
   "cell_type": "markdown",
   "id": "missing-actress",
   "metadata": {},
   "source": [
    "---\n",
    "\n",
    "### Exercise 6:\n",
    "Find the shape of a NumPy array.\n",
    "\n",
    "```python\n",
    "# Exercise 6\n",
    "```"
   ]
  },
  {
   "cell_type": "code",
   "execution_count": 147,
   "id": "congressional-thread",
   "metadata": {},
   "outputs": [
    {
     "data": {
      "text/plain": [
       "(4, 4)"
      ]
     },
     "execution_count": 147,
     "metadata": {},
     "output_type": "execute_result"
    }
   ],
   "source": [
    "y = Mat4.reshape(4,4)\n",
    "np.shape(y) #This is a 4x4 matrix"
   ]
  },
  {
   "cell_type": "markdown",
   "id": "valid-wales",
   "metadata": {},
   "source": [
    "---\n",
    "\n",
    "### Exercise 7:\n",
    "Reshape a 1D NumPy array of 16 elements into a 4x4 matrix.\n",
    "\n",
    "```python\n",
    "# Exercise 7\n",
    "```"
   ]
  },
  {
   "cell_type": "code",
   "execution_count": 146,
   "id": "banner-skill",
   "metadata": {},
   "outputs": [
    {
     "name": "stdout",
     "output_type": "stream",
     "text": [
      "[[ 0  1  2  3]\n",
      " [ 4  5  6  7]\n",
      " [ 8  9 10 11]\n",
      " [12 13 14 15]]\n"
     ]
    }
   ],
   "source": [
    "Mat4=np.array(range(16))\n",
    "print(Mat4.reshape(4,4))"
   ]
  },
  {
   "cell_type": "markdown",
   "id": "touched-combination",
   "metadata": {},
   "source": [
    "---\n",
    "\n",
    "### Exercise 8:\n",
    "Find the data type of the elements in a NumPy array.\n",
    "\n",
    "```python\n",
    "# Exercise 8\n",
    "```"
   ]
  },
  {
   "cell_type": "code",
   "execution_count": 143,
   "id": "moderate-outreach",
   "metadata": {},
   "outputs": [
    {
     "name": "stdout",
     "output_type": "stream",
     "text": [
      "<class 'numpy.ndarray'>\n",
      "<class 'numpy.int64'>\n"
     ]
    }
   ],
   "source": [
    "matrixA = np.array(range(1,10)).reshape(3,3)\n",
    "for i in matrixA:\n",
    "    type(i)\n",
    "print(type(i))\n",
    "print(type(matrixA[1,0])) "
   ]
  },
  {
   "cell_type": "markdown",
   "id": "judicial-computer",
   "metadata": {},
   "source": [
    "---\n",
    "\n",
    "### Exercise 9:\n",
    "Create a NumPy array of integers from 1 to 100 and find all even numbers in the array.\n",
    "\n",
    "```python\n",
    "# Exercise 9\n",
    "```"
   ]
  },
  {
   "cell_type": "code",
   "execution_count": 133,
   "id": "verified-decision",
   "metadata": {},
   "outputs": [
    {
     "name": "stdout",
     "output_type": "stream",
     "text": [
      "[  2   4   6   8  10  12  14  16  18  20  22  24  26  28  30  32  34  36\n",
      "  38  40  42  44  46  48  50  52  54  56  58  60  62  64  66  68  70  72\n",
      "  74  76  78  80  82  84  86  88  90  92  94  96  98 100]\n"
     ]
    }
   ],
   "source": [
    "m_A=np.array(range(2,101)) #creating the array\n",
    "print(m_A[::2]) #printing only even numbers"
   ]
  },
  {
   "cell_type": "markdown",
   "id": "arbitrary-amateur",
   "metadata": {},
   "source": [
    "---\n",
    "\n",
    "### Exercise 10:\n",
    "Generate a 6x6 matrix of random integers between 10 and 50.\n",
    "\n",
    "```python\n",
    "# Exercise 10\n",
    "```"
   ]
  },
  {
   "cell_type": "code",
   "execution_count": 3,
   "id": "innocent-campaign",
   "metadata": {},
   "outputs": [
    {
     "name": "stdout",
     "output_type": "stream",
     "text": [
      "[[24 34 26 21 15 13]\n",
      " [34 44 30 10 23 31]\n",
      " [34 10 29 14 37 31]\n",
      " [20 49 20 41 24 34]\n",
      " [32 29 24 10 43 36]\n",
      " [42 32 33 22 26 41]]\n"
     ]
    }
   ],
   "source": [
    "import numpy as np\n",
    "A =np.random.randint(10,50,(6,6))\n",
    "print(A)"
   ]
  },
  {
   "cell_type": "markdown",
   "id": "loved-nomination",
   "metadata": {},
   "source": [
    "---\n",
    "\n",
    "### Exercise 11:\n",
    "Slice a 2D NumPy array to extract a submatrix.\n",
    "\n",
    "```python\n",
    "# Exercise 11\n",
    "```"
   ]
  },
  {
   "cell_type": "code",
   "execution_count": 27,
   "id": "vocational-helicopter",
   "metadata": {},
   "outputs": [
    {
     "name": "stdout",
     "output_type": "stream",
     "text": [
      "[[4 5]\n",
      " [2 3]]\n"
     ]
    }
   ],
   "source": [
    "two_dim=np.array(range(1,7)).reshape(2,3)\n",
    "sub_matrix =[two_dim[1,][:2],two_dim[0,][1:]]\n",
    "print(np.array(sub_matrix))"
   ]
  },
  {
   "cell_type": "markdown",
   "id": "prostate-institution",
   "metadata": {},
   "source": [
    "---\n",
    "\n",
    "### Exercise 12:\n",
    "Calculate the sum of all elements in a NumPy array.\n",
    "\n",
    "```python\n",
    "# Exercise 12\n",
    "```"
   ]
  },
  {
   "cell_type": "code",
   "execution_count": 35,
   "id": "impossible-psychiatry",
   "metadata": {},
   "outputs": [
    {
     "name": "stdout",
     "output_type": "stream",
     "text": [
      "[[1 2 3]\n",
      " [4 5 6]\n",
      " [7 8 9]]\n",
      "The sum of all the entries is :  45\n",
      "The sum of each row the is :  [12 15 18]\n"
     ]
    }
   ],
   "source": [
    "two_dim2=np.array(range(1,10)).reshape(3,3)\n",
    "sum1= np.sum(two_dim2)\n",
    "print(two_dim2)\n",
    "\n",
    "print(\"The sum of all the entries is : \",sum1)\n",
    "print(\"The sum of each row the is : \",sum(two_dim2))"
   ]
  },
  {
   "cell_type": "markdown",
   "id": "injured-humidity",
   "metadata": {},
   "source": [
    "---\n",
    "\n",
    "### Exercise 13:\n",
    "Calculate the mean, median, and standard deviation of a NumPy array.\n",
    "\n",
    "```python\n",
    "# Exercise 13\n",
    "```"
   ]
  },
  {
   "cell_type": "code",
   "execution_count": 58,
   "id": "dominant-minister",
   "metadata": {},
   "outputs": [
    {
     "name": "stdout",
     "output_type": "stream",
     "text": [
      "Te mean is:  5.0\n",
      "The standard deviatin is:  2.581988897471611\n"
     ]
    }
   ],
   "source": [
    "two_dim2.size\n",
    "mean= np.sum(two_dim2)/(two_dim2.size)\n",
    "print(\"Te mean is: \",mean)\n",
    "print(\"The standard deviatin is: \",np.std(two_dim2))"
   ]
  },
  {
   "cell_type": "markdown",
   "id": "liked-cooling",
   "metadata": {},
   "source": [
    "---\n",
    "\n",
    "### Exercise 14:\n",
    "Find the maximum and minimum values in a NumPy array.\n",
    "\n",
    "```python\n",
    "# Exercise 14\n",
    "```"
   ]
  },
  {
   "cell_type": "code",
   "execution_count": 63,
   "id": "demonstrated-wealth",
   "metadata": {},
   "outputs": [
    {
     "name": "stdout",
     "output_type": "stream",
     "text": [
      "The max number is:  9\n",
      "The min number is:  1\n"
     ]
    }
   ],
   "source": [
    "\n",
    "m=np.max(two_dim2)\n",
    "print(\"The max number is: \",m)\n",
    "mi =np.min(two_dim2)\n",
    "print(\"The min number is: \",mi)"
   ]
  },
  {
   "cell_type": "markdown",
   "id": "peripheral-uzbekistan",
   "metadata": {},
   "source": [
    "---\n",
    "\n",
    "### Exercise 15:\n",
    "Create a NumPy array of 20 random integers and find the index of the maximum value.\n",
    "\n",
    "```python\n",
    "# Exercise 15\n",
    "```"
   ]
  },
  {
   "cell_type": "code",
   "execution_count": 76,
   "id": "persistent-request",
   "metadata": {},
   "outputs": [
    {
     "name": "stdout",
     "output_type": "stream",
     "text": [
      "[[35  6  9  1 49 38 45  8  4 10  6 37  4  5 29  1 42 29 26 32]]\n"
     ]
    },
    {
     "data": {
      "text/plain": [
       "4"
      ]
     },
     "execution_count": 76,
     "metadata": {},
     "output_type": "execute_result"
    }
   ],
   "source": [
    "rand_matrix=np.random.randint(1,50,(1,20))\n",
    "print(rand_matrix)\n",
    "np.argmax(rand_matrix) # argmax tho show the index of the maxmum number"
   ]
  },
  {
   "cell_type": "markdown",
   "id": "second-exhaust",
   "metadata": {},
   "source": [
    "---\n",
    "\n",
    "### Exercise 16:\n",
    "Create a NumPy array and reverse its elements.\n",
    "\n",
    "```python\n",
    "# Exercise 16\n",
    "```"
   ]
  },
  {
   "cell_type": "code",
   "execution_count": 78,
   "id": "covered-mayor",
   "metadata": {},
   "outputs": [
    {
     "name": "stdout",
     "output_type": "stream",
     "text": [
      "[[9 8 7]\n",
      " [6 5 4]\n",
      " [3 2 1]]\n"
     ]
    }
   ],
   "source": [
    "#using our  matrix two_dim2\n",
    "reverse_matrix=np.flip(two_dim2) # flip to reverse the matrix\n",
    "print(reverse_matrix)\n"
   ]
  },
  {
   "cell_type": "markdown",
   "id": "cubic-penny",
   "metadata": {},
   "source": [
    "---\n",
    "\n",
    "### Exercise 17:\n",
    "Create a 3x3 matrix and multiply it element-wise by another 3x3 matrix.\n",
    "\n",
    "```python\n",
    "# Exercise 17\n",
    "```"
   ]
  },
  {
   "cell_type": "code",
   "execution_count": 82,
   "id": "geological-portrait",
   "metadata": {},
   "outputs": [
    {
     "name": "stdout",
     "output_type": "stream",
     "text": [
      "[[ 7  1 11]\n",
      " [16  7 23]\n",
      " [25 13 35]]\n"
     ]
    }
   ],
   "source": [
    "matrix_B=np.array([[1,2,0],[0,1,1],[2,-1,3]])\n",
    "prod_matrix = np.dot(two_dim2,matrix_B) # matrix multiplication\n",
    "print(prod_matrix)"
   ]
  },
  {
   "cell_type": "markdown",
   "id": "olive-field",
   "metadata": {},
   "source": [
    "---\n",
    "\n",
    "### Exercise 18:\n",
    "Create a diagonal matrix from a given 1D array.\n",
    "\n",
    "```python\n",
    "# Exercise 18\n",
    "```"
   ]
  },
  {
   "cell_type": "code",
   "execution_count": 110,
   "id": "south-effect",
   "metadata": {},
   "outputs": [
    {
     "name": "stdout",
     "output_type": "stream",
     "text": [
      "[[1. 0. 0. 0. 0. 0. 0. 0. 0.]\n",
      " [0. 2. 0. 0. 0. 0. 0. 0. 0.]\n",
      " [0. 0. 3. 0. 0. 0. 0. 0. 0.]\n",
      " [0. 0. 0. 4. 0. 0. 0. 0. 0.]\n",
      " [0. 0. 0. 0. 5. 0. 0. 0. 0.]\n",
      " [0. 0. 0. 0. 0. 6. 0. 0. 0.]\n",
      " [0. 0. 0. 0. 0. 0. 7. 0. 0.]\n",
      " [0. 0. 0. 0. 0. 0. 0. 8. 0.]\n",
      " [0. 0. 0. 0. 0. 0. 0. 0. 9.]]\n"
     ]
    }
   ],
   "source": [
    "matrix_A = np.array(range(1,10))\n",
    "daig = matrix_A*np.eye(9)\n",
    "print(daig)"
   ]
  },
  {
   "cell_type": "code",
   "execution_count": null,
   "id": "separate-michigan",
   "metadata": {},
   "outputs": [],
   "source": []
  },
  {
   "cell_type": "markdown",
   "id": "forty-fever",
   "metadata": {},
   "source": [
    "---\n",
    "\n",
    "### Exercise 19:\n",
    "Perform matrix multiplication on two 2D NumPy arrays.\n",
    "\n",
    "```python\n",
    "# Exercise 19\n",
    "```"
   ]
  },
  {
   "cell_type": "code",
   "execution_count": 98,
   "id": "canadian-permission",
   "metadata": {},
   "outputs": [
    {
     "name": "stdout",
     "output_type": "stream",
     "text": [
      "[[7 6]\n",
      " [1 0]]\n"
     ]
    }
   ],
   "source": [
    "A=np.array([[1,2],[1,0]])\n",
    "C=np.array([[1,0],[3,3]])\n",
    "AxC= np.dot(A,C)\n",
    "print(AxC)"
   ]
  },
  {
   "cell_type": "markdown",
   "id": "scheduled-loading",
   "metadata": {},
   "source": [
    "---\n",
    "\n",
    "### Exercise 20:\n",
    "Flatten a 2D NumPy array into a 1D array.\n",
    "\n",
    "```python\n",
    "# Exercise 20\n",
    "```"
   ]
  },
  {
   "cell_type": "code",
   "execution_count": 123,
   "id": "auburn-injection",
   "metadata": {
    "scrolled": true
   },
   "outputs": [
    {
     "name": "stdout",
     "output_type": "stream",
     "text": [
      "[[7 6]\n",
      " [1 0]]\n",
      "The one dimensional matrix is:  [7 6 1 0]\n"
     ]
    }
   ],
   "source": [
    "# using the matrix AxC\n",
    "print(AxC)\n",
    "one_D = AxC.flatten('C')\n",
    "print(\"The one dimensional matrix is: \",one_D)"
   ]
  }
 ],
 "metadata": {
  "kernelspec": {
   "display_name": "Python 3",
   "language": "python",
   "name": "python3"
  },
  "language_info": {
   "codemirror_mode": {
    "name": "ipython",
    "version": 3
   },
   "file_extension": ".py",
   "mimetype": "text/x-python",
   "name": "python",
   "nbconvert_exporter": "python",
   "pygments_lexer": "ipython3",
   "version": "3.9.2"
  }
 },
 "nbformat": 4,
 "nbformat_minor": 5
}
